{
 "cells": [
  {
   "cell_type": "markdown",
   "metadata": {},
   "source": [
    "# Import libraries"
   ]
  },
  {
   "cell_type": "code",
   "execution_count": 1,
   "metadata": {},
   "outputs": [],
   "source": [
    "\n",
    "import pandas as pd\n",
    "import numpy as np\n",
    "import matplotlib.pyplot as plt\n",
    "import seaborn as sns\n",
    "from scipy import stats\n",
    "\n",
    "# Set visual style for plots\n",
    "sns.set(style=\"whitegrid\")"
   ]
  },
  {
   "cell_type": "markdown",
   "metadata": {},
   "source": [
    "function for downcasting, and we will need for optimization"
   ]
  },
  {
   "cell_type": "code",
   "execution_count": null,
   "metadata": {},
   "outputs": [],
   "source": [
    "def downcaste_dtype(df):\n",
    "    previous_memory_consumption = (df.memory_usage().sum()) / 1024**2 \n",
    "    for col in df.columns:\n",
    "        col_dtype = df[col].dtypes\n",
    "        if col_dtype != 'object':\n",
    "            xmin = df[col].min()\n",
    "            xmax = df[col].max()\n",
    "            if str(col_dtype)[0] == 'i': \n",
    "                if np.iinfo('int8').min < xmin and np.iinfo('int8').max > xmax:\n",
    "                    df[col] = df[col].astype('int8')\n",
    "                elif np.iinfo('int16').min < xmin and np.iinfo('int16').max > xmax:\n",
    "                    df[col] = df[col].astype('int16')\n",
    "                elif np.iinfo('int32').min < xmin and np.iinfo('int32').max > xmax:\n",
    "                    df[col] = df[col].astype('int32')\n",
    "                elif np.iinfo('int64').min < xmin and np.iinfo('int64').max > xmax:\n",
    "                    df[col] = df[col].astype('int64')\n",
    "                    \n",
    "            elif str(col_dtype)[0] == 'f': \n",
    "                if np.finfo('float16').min < xmin and np.finfo('float16').max > xmax:\n",
    "                    df[col] = df[col].astype('float16')\n",
    "                elif np.finfo('float32').min < xmin and np.finfo('float32').max > xmax:\n",
    "                    df[col] = df[col].astype('float32')\n",
    "                elif np.finfo('float64').min < xmin and np.finfo('float64').max > xmax:\n",
    "                    df[col] = df[col].astype('float64')\n",
    "            else:\n",
    "                pass\n",
    "\n",
    "    after_memory_consumption = (df.memory_usage().sum()) / 1024**2\n",
    "    percentage_of_decrease = ((previous_memory_consumption - after_memory_consumption) / previous_memory_consumption) * 100\n",
    "\n",
    "    print('Memory usage before downcasting: {:.2f} MB'.format(previous_memory_consumption))\n",
    "    print('After Downcasting the memory usage decreased to: {:.2f} MB'.format(after_memory_consumption))\n",
    "    print('Memory usage decreased by {:.3f}%'.format(percentage_of_decrease))\n",
    "\n",
    "    return df"
   ]
  },
  {
   "cell_type": "markdown",
   "metadata": {},
   "source": [
    "# Load datasets"
   ]
  },
  {
   "cell_type": "code",
   "execution_count": null,
   "metadata": {},
   "outputs": [],
   "source": [
    "pos_cash_loans = pd.read_csv('../DataSet/previous_pos_cash_loans.csv')\n",
    "credit_cards = pd.read_csv('../DataSet/previous_credit_cards.csv')"
   ]
  },
  {
   "cell_type": "code",
   "execution_count": null,
   "metadata": {},
   "outputs": [],
   "source": [
    "# optimizing\n",
    "pos_cash_loans = downcaste_dtype(pos_cash_loans)\n",
    "credit_cards = downcaste_dtype(credit_cards)"
   ]
  },
  {
   "cell_type": "markdown",
   "metadata": {},
   "source": [
    "# Merging datasets"
   ]
  },
  {
   "cell_type": "code",
   "execution_count": null,
   "metadata": {},
   "outputs": [],
   "source": [
    "merged_data = pd.merge(pos_cash_loans, credit_cards, on='sk_id_curr', how='left')"
   ]
  },
  {
   "cell_type": "markdown",
   "metadata": {},
   "source": [
    "# Data Cleaning and Preprocessing"
   ]
  },
  {
   "cell_type": "code",
   "execution_count": null,
   "metadata": {},
   "outputs": [],
   "source": [
    "# Checking for missing values\n",
    "missing_values = merged_data.isnull().sum()\n",
    "\n",
    "# handling missing values\n",
    "merged_data['amt_balance'].fillna(merged_data['amt_balance'].median(), inplace=True)\n",
    "merged_data['cnt_instalment'].fillna(merged_data['cnt_instalment'].mode()[0], inplace=True)"
   ]
  },
  {
   "cell_type": "markdown",
   "metadata": {},
   "source": [
    "# Exploratory Data Analysis (EDA)"
   ]
  },
  {
   "cell_type": "code",
   "execution_count": 2,
   "metadata": {},
   "outputs": [
    {
     "ename": "NameError",
     "evalue": "name 'merged_data' is not defined",
     "output_type": "error",
     "traceback": [
      "\u001b[1;31m---------------------------------------------------------------------------\u001b[0m",
      "\u001b[1;31mNameError\u001b[0m                                 Traceback (most recent call last)",
      "Input \u001b[1;32mIn [2]\u001b[0m, in \u001b[0;36m<cell line: 1>\u001b[1;34m()\u001b[0m\n\u001b[1;32m----> 1\u001b[0m summary \u001b[38;5;241m=\u001b[39m \u001b[43mmerged_data\u001b[49m\u001b[38;5;241m.\u001b[39mdescribe()\n",
      "\u001b[1;31mNameError\u001b[0m: name 'merged_data' is not defined"
     ]
    }
   ],
   "source": [
    "summary = merged_data.describe()\n",
    "summary"
   ]
  },
  {
   "cell_type": "code",
   "execution_count": null,
   "metadata": {},
   "outputs": [],
   "source": [
    "# Distribution of key numerical features\n",
    "merged_data.hist(bins=15, figsize=(15, 10), edgecolor='black')\n",
    "plt.subplots_adjust(hspace=0.5)"
   ]
  },
  {
   "cell_type": "code",
   "execution_count": null,
   "metadata": {},
   "outputs": [],
   "source": [
    "# Advanced Visualization: POS Cash Loan Amount Distribution\n",
    "plt.figure(figsize=(10, 6))\n",
    "sns.distplot(pos_cash_loans['cnt_instalment_future'], bins=30, kde=False)\n",
    "plt.title('Distribution of Future Installments Count in POS Cash Loans')\n"
   ]
  },
  {
   "cell_type": "code",
   "execution_count": null,
   "metadata": {},
   "outputs": [],
   "source": [
    "# Correlation analysis\n",
    "correlation_matrix = merged_data.corr()\n",
    "plt.figure(figsize=(12, 8))\n",
    "sns.heatmap(correlation_matrix, annot=True, cmap='coolwarm')\n",
    "plt.title('Correlation Matrix')"
   ]
  },
  {
   "cell_type": "markdown",
   "metadata": {},
   "source": [
    "# Aggregation and Grouping"
   ]
  },
  {
   "cell_type": "code",
   "execution_count": null,
   "metadata": {},
   "outputs": [],
   "source": [
    "# Average balance by contract status in credit cards\n",
    "avg_balance_by_status = credit_cards.groupby('name_contract_status')['amt_balance'].mean()\n",
    "\n",
    "# Total POS cash loan count by contract status\n",
    "total_pos_count_by_status = pos_cash_loans.groupby('name_contract_status').size().reset_index(name='count')\n",
    "\n",
    "# Multi-level aggregation\n",
    "# Average balance and total credit limit by contract status in credit cards\n",
    "agg_data = credit_cards.groupby('name_contract_status').agg({'amt_balance': 'mean', \n",
    "                                                             'amt_credit_limit_actual': 'sum'}).reset_index()"
   ]
  },
  {
   "cell_type": "markdown",
   "metadata": {},
   "source": [
    "# Visualization of Aggregated Data"
   ]
  },
  {
   "cell_type": "code",
   "execution_count": null,
   "metadata": {},
   "outputs": [],
   "source": [
    "# Bar plot for average balance by contract status\n",
    "plt.figure(figsize=(10, 6))\n",
    "sns.barplot(x='name_contract_status', y='amt_balance', data=avg_balance_by_status.reset_index())\n",
    "plt.title('Average Balance by Contract Status in Credit Cards')\n",
    "plt.xticks(rotation=45)"
   ]
  },
  {
   "cell_type": "code",
   "execution_count": null,
   "metadata": {},
   "outputs": [],
   "source": [
    "# Bar plot for total POS cash loan count by status\n",
    "plt.figure(figsize=(12, 6))\n",
    "sns.barplot(x='name_contract_status', y='count', data=total_pos_count_by_status)\n",
    "plt.title('Total POS Cash Loan Count by Contract Status')\n",
    "plt.xticks(rotation=45)"
   ]
  },
  {
   "cell_type": "code",
   "execution_count": null,
   "metadata": {},
   "outputs": [],
   "source": [
    "# outliers detections usgin z-score\n",
    "credit_cards['balance_z_score'] = np.abs(stats.zscore(credit_cards['amt_balance']))\n",
    "outliers = credit_cards[credit_cards['balance_z_score'] > 3]\n",
    "outliers"
   ]
  }
 ],
 "metadata": {
  "kernelspec": {
   "display_name": "Python 3",
   "language": "python",
   "name": "python3"
  },
  "language_info": {
   "codemirror_mode": {
    "name": "ipython",
    "version": 3
   },
   "file_extension": ".py",
   "mimetype": "text/x-python",
   "name": "python",
   "nbconvert_exporter": "python",
   "pygments_lexer": "ipython3",
   "version": "3.10.4"
  }
 },
 "nbformat": 4,
 "nbformat_minor": 2
}
